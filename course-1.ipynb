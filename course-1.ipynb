{
  "nbformat": 4,
  "nbformat_minor": 0,
  "metadata": {
    "colab": {
      "provenance": [],
      "authorship_tag": "ABX9TyOxj9OyFqiqMmYGkwXzUT39",
      "include_colab_link": true
    },
    "kernelspec": {
      "name": "python3",
      "display_name": "Python 3"
    },
    "language_info": {
      "name": "python"
    }
  },
  "cells": [
    {
      "cell_type": "markdown",
      "metadata": {
        "id": "view-in-github",
        "colab_type": "text"
      },
      "source": [
        "<a href=\"https://colab.research.google.com/github/mhasnainr/AI-Python-Andrew-Ng/blob/main/course-1.ipynb\" target=\"_parent\"><img src=\"https://colab.research.google.com/assets/colab-badge.svg\" alt=\"Open In Colab\"/></a>"
      ]
    },
    {
      "cell_type": "code",
      "execution_count": null,
      "metadata": {
        "id": "pCKvKPJ1UJ-h",
        "colab": {
          "base_uri": "https://localhost:8080/"
        },
        "outputId": "0f37858f-cc71-4d45-d474-79b2511ff937"
      },
      "outputs": [
        {
          "output_type": "stream",
          "name": "stdout",
          "text": [
            "Welcome to AI world!\n"
          ]
        }
      ],
      "source": [
        "print('Welcome to AI world!')"
      ]
    },
    {
      "cell_type": "code",
      "source": [
        "print('Hello, Ali and Babar')"
      ],
      "metadata": {
        "colab": {
          "base_uri": "https://localhost:8080/"
        },
        "id": "8iOTOSRoqI9c",
        "outputId": "91fae077-3d01-488b-c5bb-086565969219"
      },
      "execution_count": null,
      "outputs": [
        {
          "output_type": "stream",
          "name": "stdout",
          "text": [
            "Hello, Ali and Babar\n"
          ]
        }
      ]
    },
    {
      "cell_type": "code",
      "source": [
        "# prompt: Modify the code below to have it say hello to me.\n",
        "#      print(\"Hello, World!\")\n",
        "#      My name is Hasnain\n",
        "\n",
        "print(\"Hello, Hasnain!\")\n"
      ],
      "metadata": {
        "colab": {
          "base_uri": "https://localhost:8080/"
        },
        "id": "bJ2gIdRzoo_9",
        "outputId": "72855425-5838-4f50-9569-d8b8286e9f4c"
      },
      "execution_count": null,
      "outputs": [
        {
          "output_type": "stream",
          "name": "stdout",
          "text": [
            "Hello, Hasnain!\n"
          ]
        }
      ]
    },
    {
      "cell_type": "code",
      "source": [
        "# this is a comment, which Python won't execute"
      ],
      "metadata": {
        "id": "2CF_lxWgqVIb"
      },
      "execution_count": null,
      "outputs": []
    },
    {
      "cell_type": "code",
      "source": [
        "# error in the following line of code\n",
        "# print('Hello, world!)\n",
        "# skipping a quotation mark from end, will cause an error"
      ],
      "metadata": {
        "id": "DqjfpwMBqe0w"
      },
      "execution_count": null,
      "outputs": []
    },
    {
      "cell_type": "code",
      "source": [
        "# multiline string: 3 quotation mark statement\n",
        "print(''' Hello\n",
        "      world!''')"
      ],
      "metadata": {
        "colab": {
          "base_uri": "https://localhost:8080/"
        },
        "id": "IQW1jEdzq5Lr",
        "outputId": "f3cd0e02-5268-4ac1-81d0-74154f9667f2"
      },
      "execution_count": null,
      "outputs": [
        {
          "output_type": "stream",
          "name": "stdout",
          "text": [
            " Hello \n",
            "      world!\n"
          ]
        }
      ]
    },
    {
      "cell_type": "code",
      "source": [
        "# type() function: it states the data type. e.g. str, int, float\n",
        "type('Hasnain')"
      ],
      "metadata": {
        "colab": {
          "base_uri": "https://localhost:8080/"
        },
        "id": "vl-DkVPU6QhY",
        "outputId": "ee2f88bc-5bbb-428e-8069-d44256b815d1"
      },
      "execution_count": null,
      "outputs": [
        {
          "output_type": "execute_result",
          "data": {
            "text/plain": [
              "str"
            ]
          },
          "metadata": {},
          "execution_count": 9
        }
      ]
    },
    {
      "cell_type": "code",
      "source": [
        "type(232)"
      ],
      "metadata": {
        "colab": {
          "base_uri": "https://localhost:8080/"
        },
        "id": "zYfWgf3w6vAX",
        "outputId": "84ebad87-3be4-4aec-ea63-3e9fa50dba35"
      },
      "execution_count": null,
      "outputs": [
        {
          "output_type": "execute_result",
          "data": {
            "text/plain": [
              "int"
            ]
          },
          "metadata": {},
          "execution_count": 10
        }
      ]
    },
    {
      "cell_type": "code",
      "source": [
        "type(32.43)"
      ],
      "metadata": {
        "colab": {
          "base_uri": "https://localhost:8080/"
        },
        "id": "qQz89PC7634c",
        "outputId": "bef6639e-e748-4540-8cdb-34c3eaf39f6f"
      },
      "execution_count": null,
      "outputs": [
        {
          "output_type": "execute_result",
          "data": {
            "text/plain": [
              "float"
            ]
          },
          "metadata": {},
          "execution_count": 11
        }
      ]
    },
    {
      "cell_type": "code",
      "source": [
        "# python as a Calculator\n",
        "print(32232+ 43)"
      ],
      "metadata": {
        "colab": {
          "base_uri": "https://localhost:8080/"
        },
        "id": "27mKyjt769lh",
        "outputId": "e7fb9fc2-ae46-4eae-8053-7559981fc68c"
      },
      "execution_count": null,
      "outputs": [
        {
          "output_type": "stream",
          "name": "stdout",
          "text": [
            "32275\n"
          ]
        }
      ]
    },
    {
      "cell_type": "code",
      "source": [
        "print(323 ** 32)"
      ],
      "metadata": {
        "colab": {
          "base_uri": "https://localhost:8080/"
        },
        "id": "XI2AedqI7gEX",
        "outputId": "984e3f3b-7ce8-4bf2-edb0-0dbf47a51c16"
      },
      "execution_count": null,
      "outputs": [
        {
          "output_type": "stream",
          "name": "stdout",
          "text": [
            "197006572197363553789152535885229716877220373523494064577673832606945916127278721\n"
          ]
        }
      ]
    },
    {
      "cell_type": "code",
      "source": [
        "# Order of operations\n",
        "# converting Fah to Cel\n",
        "\n",
        "print((75 -32 ) * 5/9)"
      ],
      "metadata": {
        "colab": {
          "base_uri": "https://localhost:8080/"
        },
        "id": "UIXTo0Pa7mN9",
        "outputId": "c7477ef2-f53f-4132-c4a9-51b0c4fcc04a"
      },
      "execution_count": null,
      "outputs": [
        {
          "output_type": "stream",
          "name": "stdout",
          "text": [
            "23.88888888888889\n"
          ]
        }
      ]
    },
    {
      "cell_type": "code",
      "source": [
        "# Lesson 6: Ex\n",
        "\n",
        "print('''Welcome to\n",
        "world of Python''')\n",
        "\n",
        "type(23)\n",
        "# type(-)\n",
        "\n",
        "# convert 7 feet to meters\n",
        "\n",
        "print(6 * .3048)"
      ],
      "metadata": {
        "colab": {
          "base_uri": "https://localhost:8080/"
        },
        "id": "4s2Ey3Sg8o0a",
        "outputId": "a1de267b-44be-45eb-d478-25cbcbf83951"
      },
      "execution_count": null,
      "outputs": [
        {
          "output_type": "stream",
          "name": "stdout",
          "text": [
            "Welcome to \n",
            "world of Python\n",
            "1.8288000000000002\n"
          ]
        }
      ]
    },
    {
      "cell_type": "code",
      "source": [
        "type(434)"
      ],
      "metadata": {
        "colab": {
          "base_uri": "https://localhost:8080/"
        },
        "id": "sQsgq4iw97QX",
        "outputId": "a8426bea-0483-4618-99cd-da741d91fa2d"
      },
      "execution_count": null,
      "outputs": [
        {
          "output_type": "execute_result",
          "data": {
            "text/plain": [
              "int"
            ]
          },
          "metadata": {},
          "execution_count": 16
        }
      ]
    },
    {
      "cell_type": "code",
      "source": [
        "print(4343)\n",
        "type(print)"
      ],
      "metadata": {
        "colab": {
          "base_uri": "https://localhost:8080/"
        },
        "id": "ywDrXPKU-AiV",
        "outputId": "066c06ab-46e2-479c-a533-4593c2dd316c"
      },
      "execution_count": null,
      "outputs": [
        {
          "output_type": "stream",
          "name": "stdout",
          "text": [
            "4343\n"
          ]
        },
        {
          "output_type": "execute_result",
          "data": {
            "text/plain": [
              "builtin_function_or_method"
            ]
          },
          "metadata": {},
          "execution_count": 17
        }
      ]
    },
    {
      "cell_type": "code",
      "source": [
        "# Lesson 7: Displaying text and calculations together"
      ],
      "metadata": {
        "id": "g59VvyCk-Gdh"
      },
      "execution_count": null,
      "outputs": []
    },
    {
      "cell_type": "code",
      "source": [],
      "metadata": {
        "id": "nHZjwqGW-dyv"
      },
      "execution_count": null,
      "outputs": []
    }
  ]
}