{
  "nbformat": 4,
  "nbformat_minor": 0,
  "metadata": {
    "colab": {
      "provenance": [],
      "authorship_tag": "ABX9TyNcxLnv5q1hjrExOmbU5C/T"
    },
    "kernelspec": {
      "name": "python3",
      "display_name": "Python 3"
    },
    "language_info": {
      "name": "python"
    }
  },
  "cells": [
    {
      "cell_type": "code",
      "execution_count": null,
      "metadata": {
        "id": "pCKvKPJ1UJ-h",
        "colab": {
          "base_uri": "https://localhost:8080/"
        },
        "outputId": "0f37858f-cc71-4d45-d474-79b2511ff937"
      },
      "outputs": [
        {
          "output_type": "stream",
          "name": "stdout",
          "text": [
            "Welcome to AI world!\n"
          ]
        }
      ],
      "source": [
        "print('Welcome to AI world!')"
      ]
    },
    {
      "cell_type": "code",
      "source": [
        "print('Hello, Ali and Babar')"
      ],
      "metadata": {
        "colab": {
          "base_uri": "https://localhost:8080/"
        },
        "id": "8iOTOSRoqI9c",
        "outputId": "91fae077-3d01-488b-c5bb-086565969219"
      },
      "execution_count": null,
      "outputs": [
        {
          "output_type": "stream",
          "name": "stdout",
          "text": [
            "Hello, Ali and Babar\n"
          ]
        }
      ]
    },
    {
      "cell_type": "code",
      "source": [
        "# prompt: Modify the code below to have it say hello to me.\n",
        "#      print(\"Hello, World!\")\n",
        "#      My name is Hasnain\n",
        "\n",
        "print(\"Hello, Hasnain!\")\n"
      ],
      "metadata": {
        "colab": {
          "base_uri": "https://localhost:8080/"
        },
        "id": "bJ2gIdRzoo_9",
        "outputId": "72855425-5838-4f50-9569-d8b8286e9f4c"
      },
      "execution_count": null,
      "outputs": [
        {
          "output_type": "stream",
          "name": "stdout",
          "text": [
            "Hello, Hasnain!\n"
          ]
        }
      ]
    },
    {
      "cell_type": "code",
      "source": [
        "# this is a comment, which Python won't execute"
      ],
      "metadata": {
        "id": "2CF_lxWgqVIb"
      },
      "execution_count": null,
      "outputs": []
    },
    {
      "cell_type": "code",
      "source": [
        "# error in the following line of code\n",
        "# print('Hello, world!)\n",
        "# skipping a quotation mark from end, will cause an error"
      ],
      "metadata": {
        "id": "DqjfpwMBqe0w"
      },
      "execution_count": null,
      "outputs": []
    },
    {
      "cell_type": "code",
      "source": [
        "# multiline string: 3 quotation mark statement\n",
        "print(''' Hello\n",
        "      world!''')"
      ],
      "metadata": {
        "colab": {
          "base_uri": "https://localhost:8080/"
        },
        "id": "IQW1jEdzq5Lr",
        "outputId": "f3cd0e02-5268-4ac1-81d0-74154f9667f2"
      },
      "execution_count": null,
      "outputs": [
        {
          "output_type": "stream",
          "name": "stdout",
          "text": [
            " Hello \n",
            "      world!\n"
          ]
        }
      ]
    },
    {
      "cell_type": "code",
      "source": [
        "# type() function: it states the data type. e.g. str, int, float\n",
        "type('Hasnain')"
      ],
      "metadata": {
        "colab": {
          "base_uri": "https://localhost:8080/"
        },
        "id": "vl-DkVPU6QhY",
        "outputId": "ee2f88bc-5bbb-428e-8069-d44256b815d1"
      },
      "execution_count": null,
      "outputs": [
        {
          "output_type": "execute_result",
          "data": {
            "text/plain": [
              "str"
            ]
          },
          "metadata": {},
          "execution_count": 9
        }
      ]
    },
    {
      "cell_type": "code",
      "source": [
        "type(232)"
      ],
      "metadata": {
        "colab": {
          "base_uri": "https://localhost:8080/"
        },
        "id": "zYfWgf3w6vAX",
        "outputId": "84ebad87-3be4-4aec-ea63-3e9fa50dba35"
      },
      "execution_count": null,
      "outputs": [
        {
          "output_type": "execute_result",
          "data": {
            "text/plain": [
              "int"
            ]
          },
          "metadata": {},
          "execution_count": 10
        }
      ]
    },
    {
      "cell_type": "code",
      "source": [
        "type(32.43)"
      ],
      "metadata": {
        "colab": {
          "base_uri": "https://localhost:8080/"
        },
        "id": "qQz89PC7634c",
        "outputId": "bef6639e-e748-4540-8cdb-34c3eaf39f6f"
      },
      "execution_count": null,
      "outputs": [
        {
          "output_type": "execute_result",
          "data": {
            "text/plain": [
              "float"
            ]
          },
          "metadata": {},
          "execution_count": 11
        }
      ]
    },
    {
      "cell_type": "code",
      "source": [
        "# python as a Calculator\n",
        "print(32232+ 43)"
      ],
      "metadata": {
        "colab": {
          "base_uri": "https://localhost:8080/"
        },
        "id": "27mKyjt769lh",
        "outputId": "e7fb9fc2-ae46-4eae-8053-7559981fc68c"
      },
      "execution_count": null,
      "outputs": [
        {
          "output_type": "stream",
          "name": "stdout",
          "text": [
            "32275\n"
          ]
        }
      ]
    },
    {
      "cell_type": "code",
      "source": [
        "print(323 ** 32)"
      ],
      "metadata": {
        "colab": {
          "base_uri": "https://localhost:8080/"
        },
        "id": "XI2AedqI7gEX",
        "outputId": "984e3f3b-7ce8-4bf2-edb0-0dbf47a51c16"
      },
      "execution_count": null,
      "outputs": [
        {
          "output_type": "stream",
          "name": "stdout",
          "text": [
            "197006572197363553789152535885229716877220373523494064577673832606945916127278721\n"
          ]
        }
      ]
    },
    {
      "cell_type": "code",
      "source": [
        "# Order of operations\n",
        "# converting Fah to Cel\n",
        "\n",
        "print((75 -32 ) * 5/9)"
      ],
      "metadata": {
        "colab": {
          "base_uri": "https://localhost:8080/"
        },
        "id": "UIXTo0Pa7mN9",
        "outputId": "c7477ef2-f53f-4132-c4a9-51b0c4fcc04a"
      },
      "execution_count": null,
      "outputs": [
        {
          "output_type": "stream",
          "name": "stdout",
          "text": [
            "23.88888888888889\n"
          ]
        }
      ]
    },
    {
      "cell_type": "code",
      "source": [
        "# Lesson 6: Ex\n",
        "\n",
        "print('''Welcome to\n",
        "world of Python''')\n",
        "\n",
        "type(23)\n",
        "# type(-)\n",
        "\n",
        "# convert 7 feet to meters\n",
        "\n",
        "print(6 * .3048)"
      ],
      "metadata": {
        "colab": {
          "base_uri": "https://localhost:8080/"
        },
        "id": "4s2Ey3Sg8o0a",
        "outputId": "a1de267b-44be-45eb-d478-25cbcbf83951"
      },
      "execution_count": null,
      "outputs": [
        {
          "output_type": "stream",
          "name": "stdout",
          "text": [
            "Welcome to \n",
            "world of Python\n",
            "1.8288000000000002\n"
          ]
        }
      ]
    },
    {
      "cell_type": "code",
      "source": [
        "type(434)"
      ],
      "metadata": {
        "colab": {
          "base_uri": "https://localhost:8080/"
        },
        "id": "sQsgq4iw97QX",
        "outputId": "a8426bea-0483-4618-99cd-da741d91fa2d"
      },
      "execution_count": null,
      "outputs": [
        {
          "output_type": "execute_result",
          "data": {
            "text/plain": [
              "int"
            ]
          },
          "metadata": {},
          "execution_count": 16
        }
      ]
    },
    {
      "cell_type": "code",
      "source": [
        "print(4343)\n",
        "type(print)"
      ],
      "metadata": {
        "colab": {
          "base_uri": "https://localhost:8080/"
        },
        "id": "ywDrXPKU-AiV",
        "outputId": "066c06ab-46e2-479c-a533-4593c2dd316c"
      },
      "execution_count": null,
      "outputs": [
        {
          "output_type": "stream",
          "name": "stdout",
          "text": [
            "4343\n"
          ]
        },
        {
          "output_type": "execute_result",
          "data": {
            "text/plain": [
              "builtin_function_or_method"
            ]
          },
          "metadata": {},
          "execution_count": 17
        }
      ]
    },
    {
      "cell_type": "code",
      "source": [
        "# progress so far:\n",
        "\n",
        "# strings representing text: 'Hello'\n",
        "\n",
        "# Integers and floats represent numbers:\n",
        "# integers: 232, 32, -3, 0\n",
        "# floats: 3.32, -2.3, 0.32\n",
        "\n",
        "# display data to screen\n",
        "# print('Hello')\n",
        "# print (23)\n",
        "\n",
        "# use python as a calculator:\n",
        "# print(3 * 33)\n",
        "\n"
      ],
      "metadata": {
        "id": "oGcB8VGop71T"
      },
      "execution_count": null,
      "outputs": []
    },
    {
      "cell_type": "code",
      "source": [
        "# Lesson 7: Displaying text and calculations together"
      ],
      "metadata": {
        "id": "Fh0D9DCZrR9k"
      },
      "execution_count": null,
      "outputs": []
    },
    {
      "cell_type": "code",
      "source": [
        "# f-strings: f stands for formatted\n",
        "# they are used for performing calculations witin a print statement"
      ],
      "metadata": {
        "id": "glo7RhI_rUUx"
      },
      "execution_count": null,
      "outputs": []
    },
    {
      "cell_type": "code",
      "source": [
        "# e.g. below"
      ],
      "metadata": {
        "id": "PNhE6-OorlUJ"
      },
      "execution_count": null,
      "outputs": []
    },
    {
      "cell_type": "code",
      "source": [
        "print(\"The temperature 75F in degrees Celsius is ((75 - 32) * 5 / 9)C\")"
      ],
      "metadata": {
        "colab": {
          "base_uri": "https://localhost:8080/"
        },
        "id": "lLr7ITTLrup5",
        "outputId": "9a23b291-545c-44df-b304-40b9f076d89a"
      },
      "execution_count": null,
      "outputs": [
        {
          "output_type": "stream",
          "name": "stdout",
          "text": [
            "The temperature 75F in degrees Celsius is ((75 - 32) * 5 / 9)C\n"
          ]
        }
      ]
    },
    {
      "cell_type": "code",
      "source": [
        "print(f'The temperature 75F in degrees Celsius is {((75 - 32) * 5 / 9)}C')"
      ],
      "metadata": {
        "colab": {
          "base_uri": "https://localhost:8080/"
        },
        "id": "2TohDRP7rydZ",
        "outputId": "0a998165-b378-46c5-87ca-ccd5d3306e01"
      },
      "execution_count": null,
      "outputs": [
        {
          "output_type": "stream",
          "name": "stdout",
          "text": [
            "The temperature 75F in degrees Celsius is 23.88888888888889C\n"
          ]
        }
      ]
    },
    {
      "cell_type": "code",
      "source": [
        "# how python carries out the print() statement\n",
        "\n",
        "print('Isabel is 32 years old')\n",
        "\n",
        "# 1. the word 'print' tells python to display to screen\n",
        "# 2. () checks for opening and closing parentheses\n",
        "# 3. '' checks for a quotation mark, checks for match to close\n",
        "# 4. text inside quotation marks: python displays everything between the quotes to the screen exactly as written"
      ],
      "metadata": {
        "colab": {
          "base_uri": "https://localhost:8080/"
        },
        "id": "r5UiEjpwr8QV",
        "outputId": "b1586b77-8650-4d2d-b68a-ec231ccc17fc"
      },
      "execution_count": null,
      "outputs": [
        {
          "output_type": "stream",
          "name": "stdout",
          "text": [
            "Isabel is 32 years old\n"
          ]
        }
      ]
    },
    {
      "cell_type": "code",
      "source": [
        "# how python interprets f-strings\n",
        "\n",
        "print(f'Isabel is {32/2} dog years old')\n",
        "\n",
        "# 1. the word 'print' tells python to display to screen\n",
        "# 2. () checks for opening and closing parentheses\n",
        "# 3. f: it knows this is a formatted string\n",
        "# 4. '' checks for a quotation mark, checks for match to close\n",
        "# 5. {} checks for opening and closing curly braces\n",
        "# 6. numbers/ variables inside the curly braces carries out calculations"
      ],
      "metadata": {
        "colab": {
          "base_uri": "https://localhost:8080/"
        },
        "id": "ouEaAk6FtosW",
        "outputId": "3bf1eb93-437a-4b1f-8b98-b591098df3c1"
      },
      "execution_count": null,
      "outputs": [
        {
          "output_type": "stream",
          "name": "stdout",
          "text": [
            "Isabel is 16.0 dog years old\n"
          ]
        }
      ]
    },
    {
      "cell_type": "code",
      "source": [
        "# in order to change from float to integer (or whole number)\n",
        "\n",
        "# use ' :.0f ' after calculation within curly braces\n",
        "# 0 represents number of decimal places you wish to add\n",
        "\n",
        "# e.g. below:\n",
        "\n",
        "print(f\"Isabel is {28/7:.0f} dog years old.\")"
      ],
      "metadata": {
        "colab": {
          "base_uri": "https://localhost:8080/"
        },
        "id": "4KHO6DcFvGBY",
        "outputId": "b78e7391-af61-4597-af42-b40a2c3660f7"
      },
      "execution_count": null,
      "outputs": [
        {
          "output_type": "stream",
          "name": "stdout",
          "text": [
            "Isabel is 4 dog years old.\n"
          ]
        }
      ]
    },
    {
      "cell_type": "code",
      "source": [
        "# another e.g.\n",
        "\n",
        "print(f'The temperature 75F in degrees Celsius is {(75 - 32) * 5 / 9:.1f}C')"
      ],
      "metadata": {
        "colab": {
          "base_uri": "https://localhost:8080/"
        },
        "id": "NKqkKYwZvq1_",
        "outputId": "2ce6c844-bd23-4499-9cb8-ad5e34a9f920"
      },
      "execution_count": null,
      "outputs": [
        {
          "output_type": "stream",
          "name": "stdout",
          "text": [
            "The temperature 75F in degrees Celsius is 23.9C\n"
          ]
        }
      ]
    },
    {
      "cell_type": "code",
      "source": [
        "# multi-line f-string:\n",
        "\n",
        "print(f\"\"\"\n",
        "    Most countries use the metric system for recipe measurement,\n",
        "    but American bakers use a different system. For example, they use\n",
        "    fluid ounces to measure liquids instead of milliliters (ml).\n",
        "\n",
        "    So you need to convert recipe units to your local measuring system!\n",
        "\n",
        "    For example, 8 fluid ounces of milk is {8 * 29.5735} ml.\n",
        "    And 100ml of water is {100 / 29.5735} fluid ounces.\n",
        "\"\"\")"
      ],
      "metadata": {
        "colab": {
          "base_uri": "https://localhost:8080/"
        },
        "id": "Rir99d9VwXXd",
        "outputId": "f6e8bce1-82d9-4af5-b7ae-9d09d719a70c"
      },
      "execution_count": null,
      "outputs": [
        {
          "output_type": "stream",
          "name": "stdout",
          "text": [
            "\n",
            "    Most countries use the metric system for recipe measurement, \n",
            "    but American bakers use a different system. For example, they use \n",
            "    fluid ounces to measure liquids instead of milliliters (ml).\n",
            "    \n",
            "    So you need to convert recipe units to your local measuring system!\n",
            "    \n",
            "    For example, 8 fluid ounces of milk is 236.588 ml.\n",
            "    And 100ml of water is 3.381405650328842 fluid ounces.\n",
            "\n"
          ]
        }
      ]
    },
    {
      "cell_type": "code",
      "source": [
        "# extra practise\n",
        "\n",
        "# Q1: # Modify the code to print your age\n",
        "\n",
        "print(f\"I am {54/2} years old.\")\n",
        "\n",
        "# Q2: fix code\n",
        "print(f\"There are {365/7} weeks in a year\")\n",
        "\n",
        "# Q3: complete code\n",
        "print(f\"The area of a square with side 5 cm is {5 * 5} cm squared.\")\n",
        "\n",
        "# Q4: Modify the code to display one decimal place\n",
        "\n",
        "print(f\"The house was a good size: 1200 square feet, or {1200 * 0.092903:.1f} meters squared!\")"
      ],
      "metadata": {
        "colab": {
          "base_uri": "https://localhost:8080/"
        },
        "id": "7T5wsUt-wphM",
        "outputId": "2751f679-a5e8-4859-a3e5-9d3e41d430bb"
      },
      "execution_count": null,
      "outputs": [
        {
          "output_type": "stream",
          "name": "stdout",
          "text": [
            "I am 27.0 years old.\n",
            "There are 52.142857142857146 weeks in a year\n",
            "The area of a square with side 5 cm is 25 cm squared.\n",
            "The house was a good size: 1200 square feet, or 111.5 meters squared!\n"
          ]
        }
      ]
    },
    {
      "cell_type": "code",
      "source": [
        "# Lesson 8: Variables"
      ],
      "metadata": {
        "id": "DL4eW7SLw6o-"
      },
      "execution_count": 1,
      "outputs": []
    },
    {
      "cell_type": "code",
      "source": [
        "age = 32\n",
        "print(age)"
      ],
      "metadata": {
        "colab": {
          "base_uri": "https://localhost:8080/"
        },
        "id": "E9VnEqfNHEUd",
        "outputId": "4f4276e4-94ab-4dde-ae08-ed502b5c55a7"
      },
      "execution_count": 2,
      "outputs": [
        {
          "output_type": "stream",
          "name": "stdout",
          "text": [
            "32\n"
          ]
        }
      ]
    },
    {
      "cell_type": "code",
      "source": [
        "name = 'asif'\n",
        "gname_height = 12.1"
      ],
      "metadata": {
        "id": "NIpC1JhlHXrv"
      },
      "execution_count": 3,
      "outputs": []
    },
    {
      "cell_type": "code",
      "source": [
        "print(f'{name} is {age} years old')\n",
        "print(f'Height of {name} is: {gname_height}')"
      ],
      "metadata": {
        "colab": {
          "base_uri": "https://localhost:8080/"
        },
        "id": "KHXD-DHtHk2z",
        "outputId": "b38b47de-b4d8-486b-ed66-c137e79ce441"
      },
      "execution_count": 4,
      "outputs": [
        {
          "output_type": "stream",
          "name": "stdout",
          "text": [
            "asif is 32 years old\n",
            "Height of asif is: 12.1\n"
          ]
        }
      ]
    },
    {
      "cell_type": "code",
      "source": [
        "score = 0\n",
        "print(score)"
      ],
      "metadata": {
        "colab": {
          "base_uri": "https://localhost:8080/"
        },
        "id": "IRHIGnQnH6Uh",
        "outputId": "d0e288c2-798d-4db4-cdfc-b6e680a864f0"
      },
      "execution_count": 5,
      "outputs": [
        {
          "output_type": "stream",
          "name": "stdout",
          "text": [
            "0\n"
          ]
        }
      ]
    },
    {
      "cell_type": "code",
      "source": [
        "score = score + 23;\n",
        "score = score + 100\n",
        "print(score)"
      ],
      "metadata": {
        "colab": {
          "base_uri": "https://localhost:8080/"
        },
        "id": "7eoVxsItIPbc",
        "outputId": "a0eb9d0b-5b81-49c2-ef5e-8be5231b3b74"
      },
      "execution_count": 6,
      "outputs": [
        {
          "output_type": "stream",
          "name": "stdout",
          "text": [
            "123\n"
          ]
        }
      ]
    },
    {
      "cell_type": "code",
      "source": [
        "# extra practise\n",
        "\n",
        "# Q1: Create a variable called 'my_name' and assign it the value of your name as a string. Then print out a greeting using the variable, like \"Hello, Hasnain!\"\n",
        "\n",
        "my_name = 'Hasnain'\n",
        "print(f'Welcome {my_name}!')\n",
        "\n",
        "\n",
        "# Q2: Enter your favorite number below and store it in a variable called 'fav_num'. Print out a message telling you what your favorite number plus 10 is.\n",
        "\n",
        "fav_num = 7\n",
        "fav_num = fav_num + 10\n",
        "print(f\"Your favorite number plus 10 is {fav_num}\")\n",
        "\n",
        "\n",
        "# Q3: Create two variables, 'countries_visited' and 'countries_to_visit'\n",
        "# Assign them the number of countries you've been to and the number of countries you hope to visit. Then complete the print statement.\n",
        "\n",
        "countries_visited = 0\n",
        "countries_to_visit = 190\n",
        "\n",
        "print(f\"\"\"I have visited {countries_visited} countries. I plan to visit {countries_to_visit} more countries,\n",
        "      and when I'm done I will have visited {countries_to_visit} countries.\"\"\")"
      ],
      "metadata": {
        "colab": {
          "base_uri": "https://localhost:8080/"
        },
        "id": "WAk9TbQ9IW2D",
        "outputId": "c8757ab4-c25b-4b70-ae6e-685b817121a3"
      },
      "execution_count": 9,
      "outputs": [
        {
          "output_type": "stream",
          "name": "stdout",
          "text": [
            "Welcome Hasnain!\n",
            "Your favorite number plus 10 is 17\n",
            "I have visited 0 countries. I plan to visit 190 more countries, \n",
            "      and when I'm done I will have visited 190 countries.\n"
          ]
        }
      ]
    },
    {
      "cell_type": "code",
      "source": [
        "# Lesson 9: Building LLM prompts with variables"
      ],
      "metadata": {
        "id": "9FcTVsOsKT5U"
      },
      "execution_count": 10,
      "outputs": []
    },
    {
      "cell_type": "code",
      "source": [
        "# Lesson 10: Functions - Actions on Data"
      ],
      "metadata": {
        "id": "9LLAepYpKrbn"
      },
      "execution_count": 11,
      "outputs": []
    },
    {
      "cell_type": "code",
      "source": [
        "# Len function: len stands for length"
      ],
      "metadata": {
        "id": "sZUjZBDOPJqj"
      },
      "execution_count": 12,
      "outputs": []
    },
    {
      "cell_type": "code",
      "source": [
        "# e.g. below\n",
        "\n",
        "print( len('Welcome!'))"
      ],
      "metadata": {
        "colab": {
          "base_uri": "https://localhost:8080/"
        },
        "id": "RXfapIKmPfMl",
        "outputId": "7153a394-3a6b-4bc4-e20f-6e1a1371516a"
      },
      "execution_count": 13,
      "outputs": [
        {
          "output_type": "stream",
          "name": "stdout",
          "text": [
            "8\n"
          ]
        }
      ]
    },
    {
      "cell_type": "code",
      "source": [
        "print(round(32.1))"
      ],
      "metadata": {
        "colab": {
          "base_uri": "https://localhost:8080/"
        },
        "id": "dkQz_cR4PmWo",
        "outputId": "90fe8f73-43f6-44b7-a3b6-02ac0ddea987"
      },
      "execution_count": 14,
      "outputs": [
        {
          "output_type": "stream",
          "name": "stdout",
          "text": [
            "32\n"
          ]
        }
      ]
    },
    {
      "cell_type": "code",
      "source": [
        "print(round(32.6))"
      ],
      "metadata": {
        "colab": {
          "base_uri": "https://localhost:8080/"
        },
        "id": "JUqGpmYSPzdL",
        "outputId": "4d232a54-ef55-481d-90c1-8ace606e4024"
      },
      "execution_count": 15,
      "outputs": [
        {
          "output_type": "stream",
          "name": "stdout",
          "text": [
            "33\n"
          ]
        }
      ]
    },
    {
      "cell_type": "code",
      "source": [
        "print(round(32.5))"
      ],
      "metadata": {
        "colab": {
          "base_uri": "https://localhost:8080/"
        },
        "id": "_rH6_5QwP0su",
        "outputId": "c2b9728c-6dce-4853-bdc0-3abb98007799"
      },
      "execution_count": 16,
      "outputs": [
        {
          "output_type": "stream",
          "name": "stdout",
          "text": [
            "32\n"
          ]
        }
      ]
    },
    {
      "cell_type": "code",
      "source": [
        "print(round(32.51))"
      ],
      "metadata": {
        "colab": {
          "base_uri": "https://localhost:8080/"
        },
        "id": "bBpuQFEpP4aN",
        "outputId": "f6d18098-c65b-45a9-848f-724941aa4164"
      },
      "execution_count": 17,
      "outputs": [
        {
          "output_type": "stream",
          "name": "stdout",
          "text": [
            "33\n"
          ]
        }
      ]
    },
    {
      "cell_type": "code",
      "source": [
        "string_length = len(\"Hello World!\")\n",
        "print(string_length)"
      ],
      "metadata": {
        "colab": {
          "base_uri": "https://localhost:8080/"
        },
        "id": "ISaCzjrTP66x",
        "outputId": "f47a941c-ddca-4258-adad-38dd0867dc5d"
      },
      "execution_count": 18,
      "outputs": [
        {
          "output_type": "stream",
          "name": "stdout",
          "text": [
            "12\n"
          ]
        }
      ]
    }
  ]
}